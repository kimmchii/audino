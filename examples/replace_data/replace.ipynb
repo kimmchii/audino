{
 "cells": [
  {
   "attachments": {},
   "cell_type": "markdown",
   "metadata": {},
   "source": [
    "#### Connect to the database"
   ]
  },
  {
   "cell_type": "code",
   "execution_count": 40,
   "metadata": {},
   "outputs": [],
   "source": [
    "import mysql.connector\n",
    "\n",
    "# Establish a connection to the MySQL database\n",
    "\n",
    "\"\"\"\n",
    "To get hostname from MySQL deployed docker, \n",
    "run the following command `docker inspect -f '{{range .NetworkSettings.Networks}}{{.IPAddress}}{{end}}' <container ID>`\n",
    "replace <container_ID> with the one we want to inspect. To get the id, just run `docker ps`\n",
    "\"\"\"\n",
    "connection = mysql.connector.connect(\n",
    "    host='172.18.0.2',  # Replace with the appropriate host if necessary\n",
    "    user='audino',\n",
    "    password='audino',\n",
    "    database='audino',\n",
    "    port=3306,\n",
    ")\n",
    "\n",
    "# Create a cursor object to execute SQL queries\n",
    "cursor = connection.cursor()\n"
   ]
  },
  {
   "cell_type": "code",
   "execution_count": 41,
   "metadata": {},
   "outputs": [
    {
     "name": "stdout",
     "output_type": "stream",
     "text": [
      "id\n",
      "project_id\n",
      "assigned_user_id\n",
      "filename\n",
      "original_filename\n",
      "reference_transcription\n",
      "is_marked_for_review\n",
      "created_at\n",
      "last_modified\n",
      "youtube_end_time\n",
      "youtube_start_time\n",
      "(1, 1, 2, '25c3753d8f554b5b9e11ac536b0a7589.wav', 'OSR_us_000_0010_8k.wav', None, 1, datetime.datetime(2023, 6, 14, 11, 26, 2), datetime.datetime(2023, 6, 14, 11, 26, 2), None, None)\n",
      "(3, 1, 2, '649eeb948c7c482192f9e825d9f68f7b.wav', 'OSR_us_000_0010_8k.wav', b\"The birch canoe slid on the smooth planks. Glue the sheet to the dark blue background. It's easy to tell the depth of a well. These days a chicken leg is a rare dish. Rice is often served in round bowls. The juice of lemons makes fine punch. The box was thrown beside the parked truck. The hogs were fed chopped corn and garbage. Four hours of steady work faced us. Large size in stockings is hard to sell.\", 1, datetime.datetime(2023, 6, 14, 11, 29, 43), datetime.datetime(2023, 6, 14, 11, 29, 43), None, None)\n"
     ]
    }
   ],
   "source": [
    "# import mysql.connector\n",
    "\n",
    "# # Establish a connection to the MySQL database\n",
    "\n",
    "# \"\"\"\n",
    "# To get hostname from MySQL deployed docker, \n",
    "# run the following command `docker inspect -f '{{range .NetworkSettings.Networks}}{{.IPAddress}}{{end}}' <container ID>`\n",
    "# replace <container_ID> with the one we want to inspect. To get the id, just run `docker ps`\n",
    "# \"\"\"\n",
    "# connection = mysql.connector.connect(\n",
    "#     host='172.18.0.2',  # Replace with the appropriate host if necessary\n",
    "#     user='audino',\n",
    "#     password='audino',\n",
    "#     database='audino',\n",
    "#     port=3306,\n",
    "# )\n",
    "\n",
    "# # Create a cursor object to execute SQL queries\n",
    "# cursor = connection.cursor()\n",
    "\n",
    "your_table = \"data\"\n",
    "# Example query\n",
    "query = f\"SELECT * FROM {your_table}\"\n",
    "cursor.execute(query)\n",
    "\n",
    "# Fetch all rows returned by the query\n",
    "column_names = [column[0] for column in cursor.description]\n",
    "\n",
    "# Print the column names\n",
    "for column_name in column_names:\n",
    "    print(column_name)\n",
    "\n",
    "result = cursor.fetchall()\n",
    "\n",
    "# Process the results\n",
    "for row in result:\n",
    "    print(row)\n",
    "\n",
    "# Close the cursor and connection\n",
    "cursor.close()\n",
    "connection.close()"
   ]
  },
  {
   "attachments": {},
   "cell_type": "markdown",
   "metadata": {},
   "source": [
    "#### Update the value in the selected column"
   ]
  },
  {
   "cell_type": "code",
   "execution_count": 38,
   "metadata": {},
   "outputs": [],
   "source": [
    "# Define the column name and the new value\n",
    "table_name = \"data\"\n",
    "column_name = \"assigned_user_id\"\n",
    "new_value = 3\n",
    "\n",
    "# Execute the UPDATE query\n",
    "query = f\"UPDATE {table_name} SET {column_name} = %s\"\n",
    "values = (new_value,)\n",
    "cursor.execute(query, values)\n",
    "\n",
    "# Commit the changes to the database\n",
    "connection.commit()\n",
    "\n",
    "# Close the cursor and connection\n",
    "cursor.close()\n",
    "connection.close()"
   ]
  },
  {
   "cell_type": "code",
   "execution_count": null,
   "metadata": {},
   "outputs": [],
   "source": []
  }
 ],
 "metadata": {
  "kernelspec": {
   "display_name": "sql",
   "language": "python",
   "name": "python3"
  },
  "language_info": {
   "codemirror_mode": {
    "name": "ipython",
    "version": 3
   },
   "file_extension": ".py",
   "mimetype": "text/x-python",
   "name": "python",
   "nbconvert_exporter": "python",
   "pygments_lexer": "ipython3",
   "version": "3.11.3"
  },
  "orig_nbformat": 4
 },
 "nbformat": 4,
 "nbformat_minor": 2
}
