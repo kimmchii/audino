{
 "cells": [
  {
   "attachments": {},
   "cell_type": "markdown",
   "metadata": {},
   "source": [
    "#### <ins>Connect to the database deployed by docker</ins>"
   ]
  },
  {
   "cell_type": "code",
   "execution_count": 1,
   "metadata": {},
   "outputs": [],
   "source": [
    "import mysql.connector\n",
    "\"\"\"\n",
    "To get hostname from MySQL deployed docker, \n",
    "run the following command \n",
    "`docker inspect -f '{{range .NetworkSettings.Networks}}{{.IPAddress}}{{end}}' <container ID>`\n",
    "replace <container_ID> with the one we want to inspect. To get the id, just run `docker ps`\n",
    "\"\"\"\n",
    "\n",
    "# Establish a connection to the MySQL database\n",
    "connection = mysql.connector.connect(\n",
    "    # host='x.x.x.x',  # Replace with the appropriate host\n",
    "    host = '172.18.0.3',\n",
    "    user='audino',\n",
    "    password='audino',\n",
    "    database='audino',\n",
    "    port=3306,\n",
    ")\n",
    "\n",
    "# Create a cursor object to execute SQL queries\n",
    "cursor = connection.cursor(buffered=True)\n"
   ]
  },
  {
   "attachments": {},
   "cell_type": "markdown",
   "metadata": {},
   "source": [
    "#### <ins>Checks the data in the database</ins> "
   ]
  },
  {
   "cell_type": "code",
   "execution_count": 2,
   "metadata": {},
   "outputs": [
    {
     "name": "stdout",
     "output_type": "stream",
     "text": [
      "['id', 'project_id', 'assigned_user_id', 'filename', 'original_filename', 'reference_transcription', 'is_marked_for_review', 'created_at', 'last_modified', 'youtube_end_time', 'youtube_start_time']\n",
      "(1, 1, 6, '3704789cab3d4eb7a65e12bcd4dae43c.wav', 'OSR_us_000_0010_8k.wav', None, 0, datetime.datetime(2023, 6, 16, 2, 51, 47), datetime.datetime(2023, 6, 16, 7, 4, 29), None, None)\n",
      "(2, 1, 4, '58558470c38f4a918494bdf83ddc2ed3.wav', '4539076_26_14_00000.wav', None, 0, datetime.datetime(2023, 6, 16, 3, 6, 23), datetime.datetime(2023, 6, 17, 5, 29, 56), None, None)\n",
      "(3, 1, 5, 'ce6796c828b3448ea4781f05d35bd81d.wav', '4539076_26_14_00001.wav', None, 1, datetime.datetime(2023, 6, 16, 3, 7, 38), datetime.datetime(2023, 6, 16, 3, 7, 38), None, None)\n",
      "(4, 1, 5, '7624e0549022483c888d1e586acc971c.wav', '4539076_26_14_00002.wav', None, 1, datetime.datetime(2023, 6, 16, 3, 7, 44), datetime.datetime(2023, 6, 16, 3, 7, 44), None, None)\n",
      "(5, 1, 5, 'd10febc13d484ab1b1d0e034067329a1.wav', '4539076_26_14_00003.wav', None, 1, datetime.datetime(2023, 6, 16, 3, 7, 49), datetime.datetime(2023, 6, 16, 3, 7, 49), None, None)\n",
      "(6, 1, 3, 'd3fcee236a3044b9a4b9c1ee81cc36b1.wav', '4539076_26_14_00004.wav', None, 0, datetime.datetime(2023, 6, 16, 3, 8, 1), datetime.datetime(2023, 6, 16, 4, 7, 31), None, None)\n",
      "(7, 1, 3, '2f119c189a1643efa50478199bb34626.wav', '4539076_26_14_00005.wav', None, 0, datetime.datetime(2023, 6, 16, 3, 8, 15), datetime.datetime(2023, 6, 16, 4, 19, 15), None, None)\n",
      "(8, 1, 4, '36b482b49e0c48e8a6d28e4ef8163321.wav', '4539076_26_14_00006.wav', None, 0, datetime.datetime(2023, 6, 16, 3, 8, 28), datetime.datetime(2023, 6, 17, 5, 29, 59), None, None)\n",
      "(9, 1, 4, '4c9733a2b44342578ae13c5c1e863828.wav', '4539076_26_14_00007.wav', None, 0, datetime.datetime(2023, 6, 16, 3, 8, 35), datetime.datetime(2023, 6, 17, 5, 30, 6), None, None)\n",
      "(10, 1, 4, 'ee439f799c85471cb4e706f829a71087.wav', '4539076_26_14_00008.wav', b\"Hello it's me\", 0, datetime.datetime(2023, 6, 16, 3, 10, 24), datetime.datetime(2023, 6, 17, 5, 30, 10), None, None)\n"
     ]
    }
   ],
   "source": [
    "table_name = \"data\"\n",
    "# Example query\n",
    "query = f\"SELECT * FROM {table_name}\"\n",
    "cursor.execute(query)\n",
    "\n",
    "# Fetch all rows returned by the query\n",
    "column_names = [column[0] for column in cursor.description]\n",
    "\n",
    "# Print the column names\n",
    "print(column_names)\n",
    "\n",
    "result = cursor.fetchall()\n",
    "\n",
    "# Process the results\n",
    "for row in result:\n",
    "    print(row)\n",
    "\n",
    "# Close the cursor and connection"
   ]
  },
  {
   "attachments": {},
   "cell_type": "markdown",
   "metadata": {},
   "source": [
    "#### <ins>Update the value in the selected column</ins>"
   ]
  },
  {
   "attachments": {},
   "cell_type": "markdown",
   "metadata": {},
   "source": [
    "##### Functions"
   ]
  },
  {
   "cell_type": "code",
   "execution_count": 3,
   "metadata": {},
   "outputs": [],
   "source": [
    "def query_from_table(table_name: str, column_name: str, condition: str = \"\") -> any:\n",
    "    \"\"\"\n",
    "    Queries the table according to the input column name in the database in this case, we have already use `audino`. \n",
    "    \"\"\"\n",
    "    query = f\"SELECT {column_name} FROM {table_name}\"\n",
    "    query += f\" WHERE {condition}\" if condition else \"\"\n",
    "    cursor.execute(query)\n",
    "    queried_datas = cursor.fetchall()\n",
    "    return queried_datas\n",
    "\n",
    "def update_target_user(table_name: str, column_name: str, target_username: str, audio_ids: list[int], id_user_conversion_dict: dict) -> None:\n",
    "    \"\"\"\n",
    "    Updates the target user based on the table name, column name, the target_username, and the id_values for update.\n",
    "    \"\"\"\n",
    "    for id, username in id_user_conversion_dict.items():\n",
    "        if username==target_username:\n",
    "            for audio_id in audio_ids:\n",
    "                query = f\"UPDATE {table_name} SET {column_name} = {id} WHERE id = {audio_id}\"\n",
    "                cursor.execute(query)\n",
    "                connection.commit()"
   ]
  },
  {
   "attachments": {},
   "cell_type": "markdown",
   "metadata": {},
   "source": [
    "#####  Checks users and their corresponding id"
   ]
  },
  {
   "cell_type": "code",
   "execution_count": 4,
   "metadata": {},
   "outputs": [
    {
     "name": "stdout",
     "output_type": "stream",
     "text": [
      "{'1': 'admin', '6': 'four', '3': 'one', '5': 'three', '4': 'two'}\n"
     ]
    }
   ],
   "source": [
    "\n",
    "queried_datas = query_from_table(\"user\", \"id, username\")\n",
    "id_user_conversion_dict = {}\n",
    "# Get the conversion dict for users in the database,\n",
    "#  the result conversion dict will be {id: username}.\n",
    "for id, username in queried_datas:\n",
    "    id_user_conversion_dict[str(id)] = username\n",
    "\n",
    "print(id_user_conversion_dict)"
   ]
  },
  {
   "attachments": {},
   "cell_type": "markdown",
   "metadata": {},
   "source": [
    "##### Checks the transcription column in segmentation table. "
   ]
  },
  {
   "cell_type": "code",
   "execution_count": 5,
   "metadata": {},
   "outputs": [
    {
     "name": "stdout",
     "output_type": "stream",
     "text": [
      "{'id': [6, 7, 1], 'is_empty_transcript': [False, False, True]}\n"
     ]
    }
   ],
   "source": [
    "audio_ids = query_from_table(\"segmentation\", \"data_id, transcription\")\n",
    "\n",
    "id_transcript_dict={\"id\":[], \"is_empty_transcript\":[]}\n",
    "for audio_id, transcription in audio_ids:\n",
    "    id_transcript_dict[\"id\"].append(audio_id)\n",
    "    # Remove extra space and prevent the empty string to be recongnised as `already transcript`\n",
    "    clean_data = transcription.strip()\n",
    "    is_empty_text = len(clean_data) == 0\n",
    "    id_transcript_dict[\"is_empty_transcript\"].append(is_empty_text)\n",
    "        \n",
    "print(id_transcript_dict)"
   ]
  },
  {
   "attachments": {},
   "cell_type": "markdown",
   "metadata": {},
   "source": [
    "##### Checks the values in the table data"
   ]
  },
  {
   "cell_type": "code",
   "execution_count": 6,
   "metadata": {},
   "outputs": [
    {
     "name": "stdout",
     "output_type": "stream",
     "text": [
      "four\n",
      "[{'audio_id': 1, 'project_id': 1, 'is_marked_for_review': False, 'is_empty_transcript': True}]\n",
      "two\n",
      "[{'audio_id': 2, 'project_id': 1, 'is_marked_for_review': False, 'is_empty_transcript': True}, {'audio_id': 8, 'project_id': 1, 'is_marked_for_review': False, 'is_empty_transcript': True}, {'audio_id': 9, 'project_id': 1, 'is_marked_for_review': False, 'is_empty_transcript': True}, {'audio_id': 10, 'project_id': 1, 'is_marked_for_review': False, 'is_empty_transcript': True}]\n",
      "three\n",
      "[{'audio_id': 3, 'project_id': 1, 'is_marked_for_review': True, 'is_empty_transcript': True}, {'audio_id': 4, 'project_id': 1, 'is_marked_for_review': True, 'is_empty_transcript': True}, {'audio_id': 5, 'project_id': 1, 'is_marked_for_review': True, 'is_empty_transcript': True}]\n",
      "one\n",
      "[{'audio_id': 6, 'project_id': 1, 'is_marked_for_review': False, 'is_empty_transcript': False}, {'audio_id': 7, 'project_id': 1, 'is_marked_for_review': False, 'is_empty_transcript': False}]\n"
     ]
    }
   ],
   "source": [
    "queried_datas = query_from_table(\"data\", \"id, project_id, assigned_user_id, is_marked_for_review\")\n",
    "\n",
    "from dataclasses import dataclass\n",
    "\n",
    "@dataclass\n",
    "class DataObject:\n",
    "    \"\"\" \"\"\"\n",
    "    audio_id: int\n",
    "    project_id: int\n",
    "    assigned_user: str\n",
    "    is_marked_for_review: bool\n",
    "    is_empty_transcript: bool\n",
    "\n",
    "audio_id_properties_list = []\n",
    "for audio_id, project_id, assigned_user, is_marked_for_review in queried_datas:\n",
    "    # data_dict_template_copy = data_dict_template.copy()\n",
    "    data_object = DataObject(\n",
    "        audio_id=audio_id,\n",
    "        project_id=project_id,\n",
    "        assigned_user=id_user_conversion_dict[str(assigned_user)],\n",
    "        is_marked_for_review=bool(is_marked_for_review),\n",
    "        is_empty_transcript=True\n",
    "    )   \n",
    "    # Append values to the list\n",
    "    audio_id_properties_list.append(data_object)\n",
    "\n",
    "for i, id_value in enumerate(id_transcript_dict[\"id\"]):\n",
    "    # shift index b.c. sql starts with 1\n",
    "    audio_id_properties_list[id_value-1].is_empty_transcript = id_transcript_dict[\"is_empty_transcript\"][i]\n",
    "\n",
    "user_properties_dict = {}\n",
    "# Construct the dictionary that has a key as \"assigned_user\" and a value as a list of its properties.\n",
    "# the list contains \"audio_id\", \"project_id\", \"is_marked_for_review\", and \"is_empty_transcript\"\n",
    "for element in audio_id_properties_list:\n",
    "    if element.assigned_user not in user_properties_dict:\n",
    "        user_properties_dict[element.assigned_user] = []\n",
    "\n",
    "    key = element.assigned_user\n",
    "    element_dict = element.__dict__.copy()  # Get the dictionary representation of the DataObject\n",
    "    del element_dict[\"assigned_user\"]  # Remove the assigned_user attribute\n",
    "    user_properties_dict[key].append(element_dict)\n",
    "\n",
    "for username in user_properties_dict.keys():\n",
    "    print(username)\n",
    "    print(user_properties_dict[username])\n"
   ]
  },
  {
   "attachments": {},
   "cell_type": "markdown",
   "metadata": {},
   "source": [
    "#### Older version of the above code, please ignore it"
   ]
  },
  {
   "cell_type": "code",
   "execution_count": 9,
   "metadata": {},
   "outputs": [
    {
     "name": "stdout",
     "output_type": "stream",
     "text": [
      "[{'audio_id': 1, 'project_id': 1, 'is_marked_for_review': False, 'is_empty_transcript': True}]\n",
      "[{'audio_id': 2, 'project_id': 1, 'is_marked_for_review': True, 'is_empty_transcript': False}, {'audio_id': 8, 'project_id': 1, 'is_marked_for_review': True, 'is_empty_transcript': False}, {'audio_id': 9, 'project_id': 1, 'is_marked_for_review': True, 'is_empty_transcript': False}, {'audio_id': 10, 'project_id': 1, 'is_marked_for_review': True, 'is_empty_transcript': False}]\n",
      "[{'audio_id': 3, 'project_id': 1, 'is_marked_for_review': True, 'is_empty_transcript': False}, {'audio_id': 4, 'project_id': 1, 'is_marked_for_review': True, 'is_empty_transcript': False}, {'audio_id': 5, 'project_id': 1, 'is_marked_for_review': True, 'is_empty_transcript': False}]\n",
      "[{'audio_id': 6, 'project_id': 1, 'is_marked_for_review': False, 'is_empty_transcript': False}, {'audio_id': 7, 'project_id': 1, 'is_marked_for_review': False, 'is_empty_transcript': False}]\n"
     ]
    }
   ],
   "source": [
    "# queried_datas = query_from_table(\"data\", \"id, project_id, assigned_user_id, is_marked_for_review\")\n",
    "\n",
    "\n",
    "# data_dict_template = \\\n",
    "# { \n",
    "#     \"audio_id\": None, \n",
    "#     \"assigned_user\": None, # Use with user conversion dict\n",
    "#     \"project_id\": None, \n",
    "#     \"is_marked_for_review\": None,\n",
    "#     \"is_empty_transcript\": True\n",
    "# }\n",
    "\n",
    "# audio_id_properties_list = []\n",
    "# for row in queried_datas:\n",
    "#     data_dict_template_copy = data_dict_template.copy()\n",
    "#     # Index 1: id\n",
    "#     data_dict_template_copy[\"audio_id\"] = row[0]\n",
    "#     # Index 2: project_id\n",
    "#     data_dict_template_copy[\"project_id\"] = row[1]\n",
    "#     # Index 3: assigned_user_id\n",
    "#     data_dict_template_copy[\"assigned_user\"] = id_user_conversion_dict[str(row[2])]\n",
    "#     # Index 4: is_marked_for_review\n",
    "#     data_dict_template_copy[\"is_marked_for_review\"] = bool(row[3])  \n",
    "#     # Append values to the list\n",
    "#     audio_id_properties_list.append(data_dict_template_copy)\n",
    "\n",
    "# for i, id_value in enumerate(id_transcript_dict[\"id\"]):\n",
    "#     # shift index b.c. sql starts with 1\n",
    "#     audio_id_properties_list[id_value-1][\"is_empty_transcript\"] = id_transcript_dict[\"is_empty_transcript\"][i]\n",
    "\n",
    "# user_properties_dict = {}\n",
    "\n",
    "# # Construct the dictionary that has a key as \"assigned_user\" and a value as a list of its properties.\n",
    "# # the list contains \"audio_id\", \"project_id\", \"is_marked_for_review\", and \"is_empty_transcript\"\n",
    "# for element in audio_id_properties_list:\n",
    "#     if element[\"assigned_user\"] not in user_properties_dict:\n",
    "#         user_properties_dict[element[\"assigned_user\"]] = []\n",
    "\n",
    "#     key = element[\"assigned_user\"]\n",
    "#     element.pop(\"assigned_user\")\n",
    "#     user_properties_dict[key].append(element)\n",
    "\n",
    "# for element in user_properties_dict:\n",
    "#     print(user_properties_dict[element])"
   ]
  },
  {
   "attachments": {},
   "cell_type": "markdown",
   "metadata": {},
   "source": [
    "##### Assume that we want to move the audio from user <b>\"one\"</b> to a new user <b>\"four\"</b>"
   ]
  },
  {
   "cell_type": "code",
   "execution_count": 12,
   "metadata": {},
   "outputs": [
    {
     "name": "stdout",
     "output_type": "stream",
     "text": [
      "audio id: 2, user two\n",
      "audio id: 8, user two\n",
      "audio id: 9, user two\n",
      "audio id: 10, user two\n",
      "===============\n",
      "audio id: 1, user four\n",
      "===============\n",
      "audio id: 1, user four\n",
      "audio id: 2, user four\n",
      "audio id: 8, user four\n",
      "audio id: 9, user four\n",
      "audio id: 10, user four\n"
     ]
    }
   ],
   "source": [
    "# Conditions: \n",
    "#   1. If the `is_marked_for_review` is False and `is_empty_transcript` is None or False, we will move the video to a new user\n",
    "\n",
    "# Steps:\n",
    "# 1. Checks the total number of videos that meet the above requirements. \n",
    "# 2. Lists all of the audio ids\n",
    "# 3. Update the database base on the ids and assigned_user_ids\n",
    "\n",
    "# Step 1: We interest in user \"one\" \n",
    "move_from_user = \"two\" # We want to move the audio files from this user\n",
    "move_audio_id = []\n",
    "\n",
    "# Step 2: Lists the audio ids\n",
    "for attributes in user_properties_dict[move_from_user]:\n",
    "    if not(attributes[\"is_marked_for_review\"] and attributes[\"is_empty_transcript\"]):\n",
    "        move_audio_id.append(attributes[\"audio_id\"])\n",
    "\n",
    "# Step 3: Update the database\n",
    "update_target_user(\n",
    "    table_name=\"data\",\n",
    "    column_name=\"assigned_user_id\",\n",
    "    target_username=\"four\",\n",
    "    audio_ids=move_audio_id,\n",
    "    id_user_conversion_dict=id_user_conversion_dict    \n",
    ")\n",
    "\n"
   ]
  }
 ],
 "metadata": {
  "kernelspec": {
   "display_name": "sql",
   "language": "python",
   "name": "python3"
  },
  "language_info": {
   "codemirror_mode": {
    "name": "ipython",
    "version": 3
   },
   "file_extension": ".py",
   "mimetype": "text/x-python",
   "name": "python",
   "nbconvert_exporter": "python",
   "pygments_lexer": "ipython3",
   "version": "3.11.3"
  },
  "orig_nbformat": 4
 },
 "nbformat": 4,
 "nbformat_minor": 2
}
